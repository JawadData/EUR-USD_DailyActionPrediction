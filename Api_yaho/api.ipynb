{
 "cells": [
  {
   "cell_type": "code",
   "execution_count": 1,
   "id": "0f6b05be",
   "metadata": {},
   "outputs": [
    {
     "name": "stdout",
     "output_type": "stream",
     "text": [
      "Defaulting to user installation because normal site-packages is not writeable\n",
      "Requirement already satisfied: yfinance in c:\\users\\hp 840 g3\\appdata\\roaming\\python\\python39\\site-packages (0.2.43)\n",
      "Requirement already satisfied: pandas in c:\\programdata\\anaconda3\\lib\\site-packages (1.4.4)\n",
      "Requirement already satisfied: pyarrow in c:\\users\\hp 840 g3\\appdata\\roaming\\python\\python39\\site-packages (17.0.0)\n",
      "Requirement already satisfied: pytz>=2022.5 in c:\\users\\hp 840 g3\\appdata\\roaming\\python\\python39\\site-packages (from yfinance) (2024.2)\n",
      "Requirement already satisfied: lxml>=4.9.1 in c:\\programdata\\anaconda3\\lib\\site-packages (from yfinance) (4.9.1)\n",
      "Requirement already satisfied: beautifulsoup4>=4.11.1 in c:\\programdata\\anaconda3\\lib\\site-packages (from yfinance) (4.11.1)\n",
      "Requirement already satisfied: requests>=2.31 in c:\\users\\hp 840 g3\\appdata\\roaming\\python\\python39\\site-packages (from yfinance) (2.32.3)\n",
      "Requirement already satisfied: html5lib>=1.1 in c:\\users\\hp 840 g3\\appdata\\roaming\\python\\python39\\site-packages (from yfinance) (1.1)\n",
      "Requirement already satisfied: frozendict>=2.3.4 in c:\\users\\hp 840 g3\\appdata\\roaming\\python\\python39\\site-packages (from yfinance) (2.4.4)\n",
      "Requirement already satisfied: multitasking>=0.0.7 in c:\\users\\hp 840 g3\\appdata\\roaming\\python\\python39\\site-packages (from yfinance) (0.0.11)\n",
      "Requirement already satisfied: numpy>=1.16.5 in c:\\users\\hp 840 g3\\appdata\\roaming\\python\\python39\\site-packages (from yfinance) (1.24.4)\n",
      "Requirement already satisfied: platformdirs>=2.0.0 in c:\\programdata\\anaconda3\\lib\\site-packages (from yfinance) (2.5.2)\n",
      "Requirement already satisfied: peewee>=3.16.2 in c:\\users\\hp 840 g3\\appdata\\roaming\\python\\python39\\site-packages (from yfinance) (3.17.6)\n",
      "Requirement already satisfied: python-dateutil>=2.8.1 in c:\\programdata\\anaconda3\\lib\\site-packages (from pandas) (2.8.2)\n",
      "Requirement already satisfied: soupsieve>1.2 in c:\\programdata\\anaconda3\\lib\\site-packages (from beautifulsoup4>=4.11.1->yfinance) (2.3.1)\n",
      "Requirement already satisfied: six>=1.9 in c:\\programdata\\anaconda3\\lib\\site-packages (from html5lib>=1.1->yfinance) (1.16.0)\n",
      "Requirement already satisfied: webencodings in c:\\programdata\\anaconda3\\lib\\site-packages (from html5lib>=1.1->yfinance) (0.5.1)\n",
      "Requirement already satisfied: charset-normalizer<4,>=2 in c:\\programdata\\anaconda3\\lib\\site-packages (from requests>=2.31->yfinance) (2.0.4)\n",
      "Requirement already satisfied: certifi>=2017.4.17 in c:\\users\\hp 840 g3\\appdata\\roaming\\python\\python39\\site-packages (from requests>=2.31->yfinance) (2024.2.2)\n",
      "Requirement already satisfied: idna<4,>=2.5 in c:\\users\\hp 840 g3\\appdata\\roaming\\python\\python39\\site-packages (from requests>=2.31->yfinance) (2.10)\n",
      "Requirement already satisfied: urllib3<3,>=1.21.1 in c:\\programdata\\anaconda3\\lib\\site-packages (from requests>=2.31->yfinance) (1.26.11)\n"
     ]
    }
   ],
   "source": [
    "!pip install yfinance pandas pyarrow\n"
   ]
  },
  {
   "cell_type": "code",
   "execution_count": 2,
   "id": "8017c239",
   "metadata": {},
   "outputs": [
    {
     "name": "stderr",
     "output_type": "stream",
     "text": [
      "\r",
      "[*********************100%***********************]  1 of 1 completed"
     ]
    },
    {
     "name": "stdout",
     "output_type": "stream",
     "text": [
      "Column 'Volume' has been removed.\n",
      "Column 'Adj Close' has been removed.\n",
      "Maximum data for EUR/USD saved to eur_usd_max_data.parquet\n"
     ]
    },
    {
     "name": "stderr",
     "output_type": "stream",
     "text": [
      "\n"
     ]
    }
   ],
   "source": [
    "import yfinance as yf\n",
    "import pandas as pd\n",
    "\n",
    "# Function to download the maximum available data for EUR/USD, remove columns, and save as Parquet\n",
    "def download_eur_usd_data_to_parquet(file_name, columns_to_remove):\n",
    "    # Download the maximum range of data for EUR/USD from Yahoo Finance\n",
    "    data = yf.download('EURUSD=X', period='max')\n",
    "    \n",
    "    # Reset the index to make 'Date' a regular column\n",
    "    data.reset_index(inplace=True)\n",
    "    \n",
    "    # Drop the specified columns\n",
    "    for col in columns_to_remove:\n",
    "        if col in data.columns:\n",
    "            data.drop(columns=[col], inplace=True)\n",
    "            print(f\"Column '{col}' has been removed.\")\n",
    "        else:\n",
    "            print(f\"Column '{col}' does not exist in the data.\")\n",
    "    \n",
    "    # Save the data as a Parquet file\n",
    "    data.to_parquet(file_name, engine='pyarrow')\n",
    "    \n",
    "    print(f\"Maximum data for EUR/USD saved to {file_name}\")\n",
    "\n",
    "# Example usage\n",
    "file_name = 'eur_usd_max_data.parquet'\n",
    "columns_to_remove = ['Volume', 'Adj Close']  # List of columns you want to remove\n",
    "\n",
    "download_eur_usd_data_to_parquet(file_name, columns_to_remove)\n"
   ]
  },
  {
   "cell_type": "code",
   "execution_count": 3,
   "id": "2316cdef",
   "metadata": {},
   "outputs": [
    {
     "data": {
      "text/html": [
       "<div>\n",
       "<style scoped>\n",
       "    .dataframe tbody tr th:only-of-type {\n",
       "        vertical-align: middle;\n",
       "    }\n",
       "\n",
       "    .dataframe tbody tr th {\n",
       "        vertical-align: top;\n",
       "    }\n",
       "\n",
       "    .dataframe thead th {\n",
       "        text-align: right;\n",
       "    }\n",
       "</style>\n",
       "<table border=\"1\" class=\"dataframe\">\n",
       "  <thead>\n",
       "    <tr style=\"text-align: right;\">\n",
       "      <th></th>\n",
       "      <th>Date</th>\n",
       "      <th>Open</th>\n",
       "      <th>High</th>\n",
       "      <th>Low</th>\n",
       "      <th>Close</th>\n",
       "    </tr>\n",
       "  </thead>\n",
       "  <tbody>\n",
       "    <tr>\n",
       "      <th>0</th>\n",
       "      <td>2003-12-01</td>\n",
       "      <td>1.203398</td>\n",
       "      <td>1.204007</td>\n",
       "      <td>1.194401</td>\n",
       "      <td>1.196501</td>\n",
       "    </tr>\n",
       "    <tr>\n",
       "      <th>1</th>\n",
       "      <td>2003-12-02</td>\n",
       "      <td>1.196101</td>\n",
       "      <td>1.210903</td>\n",
       "      <td>1.194600</td>\n",
       "      <td>1.208897</td>\n",
       "    </tr>\n",
       "    <tr>\n",
       "      <th>2</th>\n",
       "      <td>2003-12-03</td>\n",
       "      <td>1.209000</td>\n",
       "      <td>1.213003</td>\n",
       "      <td>1.207700</td>\n",
       "      <td>1.212298</td>\n",
       "    </tr>\n",
       "    <tr>\n",
       "      <th>3</th>\n",
       "      <td>2003-12-04</td>\n",
       "      <td>1.212004</td>\n",
       "      <td>1.214403</td>\n",
       "      <td>1.204398</td>\n",
       "      <td>1.208094</td>\n",
       "    </tr>\n",
       "    <tr>\n",
       "      <th>4</th>\n",
       "      <td>2003-12-05</td>\n",
       "      <td>1.207802</td>\n",
       "      <td>1.219096</td>\n",
       "      <td>1.206593</td>\n",
       "      <td>1.218695</td>\n",
       "    </tr>\n",
       "  </tbody>\n",
       "</table>\n",
       "</div>"
      ],
      "text/plain": [
       "        Date      Open      High       Low     Close\n",
       "0 2003-12-01  1.203398  1.204007  1.194401  1.196501\n",
       "1 2003-12-02  1.196101  1.210903  1.194600  1.208897\n",
       "2 2003-12-03  1.209000  1.213003  1.207700  1.212298\n",
       "3 2003-12-04  1.212004  1.214403  1.204398  1.208094\n",
       "4 2003-12-05  1.207802  1.219096  1.206593  1.218695"
      ]
     },
     "execution_count": 3,
     "metadata": {},
     "output_type": "execute_result"
    }
   ],
   "source": [
    "df = pd.read_parquet(file_name)\n",
    "df.head()"
   ]
  },
  {
   "cell_type": "code",
   "execution_count": null,
   "id": "9576718e",
   "metadata": {},
   "outputs": [],
   "source": []
  }
 ],
 "metadata": {
  "kernelspec": {
   "display_name": "Python 3 (ipykernel)",
   "language": "python",
   "name": "python3"
  },
  "language_info": {
   "codemirror_mode": {
    "name": "ipython",
    "version": 3
   },
   "file_extension": ".py",
   "mimetype": "text/x-python",
   "name": "python",
   "nbconvert_exporter": "python",
   "pygments_lexer": "ipython3",
   "version": "3.9.13"
  }
 },
 "nbformat": 4,
 "nbformat_minor": 5
}
