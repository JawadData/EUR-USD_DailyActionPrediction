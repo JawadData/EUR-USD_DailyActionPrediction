{
 "cells": [
  {
   "cell_type": "code",
   "execution_count": null,
   "id": "ec10f859",
   "metadata": {},
   "outputs": [],
   "source": [
    "from google.colab import drive\n",
    "drive.mount('/content/drive')\n"
   ]
  },
  {
   "cell_type": "code",
   "execution_count": null,
   "id": "acad5455",
   "metadata": {},
   "outputs": [],
   "source": [
    "!pip install papermill\n"
   ]
  },
  {
   "cell_type": "code",
   "execution_count": null,
   "id": "c4efef53",
   "metadata": {},
   "outputs": [],
   "source": [
    "import papermill as pm\n",
    "\n",
    "notebook_path = '/content/drive/MyDrive/Projet_Deep_learning/models_training/train_file.ipynb'\n",
    "output_notebook_path = '/content/drive/MyDrive/Projet_Deep_learning/models_training/result_train_file.ipynb'\n",
    "\n",
    "pm.execute_notebook(\n",
    "    notebook_path,\n",
    "    output_notebook_path\n",
    ")\n"
   ]
  }
 ],
 "metadata": {
  "kernelspec": {
   "display_name": "Python 3 (ipykernel)",
   "language": "python",
   "name": "python3"
  },
  "language_info": {
   "codemirror_mode": {
    "name": "ipython",
    "version": 3
   },
   "file_extension": ".py",
   "mimetype": "text/x-python",
   "name": "python",
   "nbconvert_exporter": "python",
   "pygments_lexer": "ipython3",
   "version": "3.9.13"
  }
 },
 "nbformat": 4,
 "nbformat_minor": 5
}
